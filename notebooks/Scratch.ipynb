{
 "cells": [
  {
   "cell_type": "code",
   "id": "initial_id",
   "metadata": {
    "collapsed": true,
    "jupyter": {
     "is_executing": true
    }
   },
   "source": [
    "import torch\n",
    "\n",
    "def batch_omp(X, D, sparsity):\n",
    "    \"\"\"\n",
    "    Batched Orthogonal Matching Pursuit.\n",
    "\n",
    "    Args:\n",
    "        X (torch.Tensor): Input signals of shape (B, M).\n",
    "        D (torch.Tensor): Dictionary of shape (M, N), where each column is an atom of dimension M.\n",
    "        sparsity (int): Number of atoms to select.\n",
    "\n",
    "    Returns:\n",
    "        support: (B, sparsity) LongTensor with indices of selected atoms.\n",
    "        coeffs: (B, sparsity) Tensor with the corresponding coefficients.\n",
    "        Y_hat: (B, M) Reconstructed signals from the sparse codes.\n",
    "    \"\"\"\n",
    "    B, M = X.shape\n",
    "    # D is (M, N) as per your specification, so we transpose to get (N, M)\n",
    "    Dt = D.t()          # Now Dt is (N, M)\n",
    "    N = Dt.shape[0]     # N atoms\n",
    "\n",
    "    # Compute initial projections: (B, M) x (M, N) => (B, N)\n",
    "    projections = X.matmul(Dt)\n",
    "\n",
    "    # Containers for support indices and coefficients\n",
    "    support = torch.zeros((B, sparsity), dtype=torch.long, device=X.device)\n",
    "    coeffs  = torch.zeros((B, sparsity), device=X.device)\n",
    "    residual = X.clone()\n",
    "\n",
    "    # Main OMP loop (simplified version)\n",
    "    for k in range(sparsity):\n",
    "        # Select the best atom for each sample\n",
    "        idx = torch.argmax(torch.abs(projections), dim=1)  # (B,)\n",
    "        support[:, k] = idx\n",
    "\n",
    "        # Extract the chosen atoms: using Dt (shape (N, M)) to pick rows\n",
    "        Dk = Dt[idx]  # (B, M)\n",
    "\n",
    "        # Compute coefficient for the newly selected atom\n",
    "        alpha = torch.sum(residual * Dk, dim=1) / torch.sum(Dk * Dk, dim=1)\n",
    "        coeffs[:, k] = alpha\n",
    "\n",
    "        # Update residual: subtract contribution of the new atom\n",
    "        recon_new = Dk * alpha.unsqueeze(1)\n",
    "        residual -= recon_new\n",
    "\n",
    "        # Update projections for next iteration\n",
    "        projections = residual.matmul(Dt)\n",
    "\n",
    "    # Final reconstruction: sum over contributions from all selected atoms\n",
    "    # Gather the selected atoms: shape should be (B, sparsity, M)\n",
    "    A_final = Dt[support]        # Using advanced indexing (each row in Dt corresponds to an atom)\n",
    "    # Reconstruct each signal: (B, sparsity) * (B, sparsity, M) summed over sparsity dimension\n",
    "    Y_hat = torch.sum(coeffs.unsqueeze(2) * A_final, dim=1)\n",
    "\n",
    "    return support, coeffs, Y_hat\n",
    "\n",
    "# Example usage:\n",
    "B, M, N, sparsity = 32, 128, 512, 10\n",
    "X = torch.randn(B, M, device='cuda')\n",
    "D = torch.randn(M, N, device='cuda')  # Dictionary shape (M, N)\n",
    "support, coeffs, Y_hat = batch_omp(X, D, sparsity)"
   ],
   "outputs": [],
   "execution_count": null
  },
  {
   "metadata": {},
   "cell_type": "code",
   "outputs": [],
   "execution_count": null,
   "source": "",
   "id": "ffa98b659d4f0f97"
  }
 ],
 "metadata": {
  "kernelspec": {
   "display_name": "Python 3",
   "language": "python",
   "name": "python3"
  },
  "language_info": {
   "codemirror_mode": {
    "name": "ipython",
    "version": 2
   },
   "file_extension": ".py",
   "mimetype": "text/x-python",
   "name": "python",
   "nbconvert_exporter": "python",
   "pygments_lexer": "ipython2",
   "version": "2.7.6"
  }
 },
 "nbformat": 4,
 "nbformat_minor": 5
}
